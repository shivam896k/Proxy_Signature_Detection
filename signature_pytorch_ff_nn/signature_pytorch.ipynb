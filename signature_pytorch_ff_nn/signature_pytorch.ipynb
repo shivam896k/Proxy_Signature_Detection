{
  "nbformat": 4,
  "nbformat_minor": 0,
  "metadata": {
    "colab": {
      "name": "signature_pytorch.ipynb",
      "version": "0.3.2",
      "provenance": [],
      "collapsed_sections": []
    },
    "kernelspec": {
      "name": "python3",
      "display_name": "Python 3"
    }
  },
  "cells": [
    {
      "metadata": {
        "id": "zNCx8n0uA1Iu",
        "colab_type": "code",
        "colab": {}
      },
      "cell_type": "code",
      "source": [
        "from google.colab import drive\n",
        "drive.mount('/content/drive')"
      ],
      "execution_count": 0,
      "outputs": []
    },
    {
      "metadata": {
        "id": "QbPV4ur8bpxt",
        "colab_type": "code",
        "colab": {}
      },
      "cell_type": "code",
      "source": [
        "import torch\n",
        "import numpy as np\n",
        "import pandas as pd\n",
        "\n",
        "import matplotlib.pyplot as plt\n",
        "from PIL import Image\n",
        "from tqdm import tqdm_notebook"
      ],
      "execution_count": 0,
      "outputs": []
    },
    {
      "metadata": {
        "id": "nUIwDKyCchMK",
        "colab_type": "code",
        "colab": {}
      },
      "cell_type": "code",
      "source": [
        "import torch.nn as nn\n",
        "import torch.nn.functional as F\n",
        "import os\n",
        "from torch.utils.data import Dataset,DataLoader\n",
        "import torch.optim as optim\n",
        "from torchvision import transforms\n",
        "from torch.autograd import Variable"
      ],
      "execution_count": 0,
      "outputs": []
    },
    {
      "metadata": {
        "id": "m71ZtCThsmkU",
        "colab_type": "code",
        "colab": {}
      },
      "cell_type": "code",
      "source": [
        "# folder_names = ['001','002','003','004','005','006','007','008','009','010','011','012','013','014','015','016','017','018','019','020','021','022','023','024','025','026','027','028','029','030','031','032','033','034','035','036','037','038','039','040','041','042','043','044','045','046','047','048','049','050','051','052','053','054','055','056','057','058','059','060','061','062','063','064','065','066','067','068','069','070','071','072','073','074','075','076','077','078','079','080','081','082','083','084','085','086','087','088','089','090','091','092','093','094','095','096','097','098','099','100',\n",
        "# '101','102','103','104','105','106','107','108','109','110','111','112','113','114','115','116','117','118','119','120','121','122','123','124','125','126','127','128','129','130','131','132','133','134','135','136','137','138','139','140','141','142','143','144','145','146','147','148','149','150','151','152','153','154','155','156','157','158','159','160','161','162','163','164','165','166','167','168','169','170','171','172','173','174','175','176','177','178','179','180','181','182','183','184','185','186','187','188','189','190','191','192','193','194','195','196','197','198','199','200']\n",
        "folder_names = ['001','002','003','004']"
      ],
      "execution_count": 0,
      "outputs": []
    },
    {
      "metadata": {
        "id": "iZsBZed4CqOy",
        "colab_type": "code",
        "colab": {}
      },
      "cell_type": "code",
      "source": [
        "temporary_image = Image.open('./drive/My Drive/Untitled folder/signature/001/c-001-01.jpg')"
      ],
      "execution_count": 0,
      "outputs": []
    },
    {
      "metadata": {
        "id": "icD4JOtPb1UW",
        "colab_type": "code",
        "colab": {}
      },
      "cell_type": "code",
      "source": [
        "class ff_nn(nn.Module):\n",
        "    def __init__(self):\n",
        "        super(ff_nn,self).__init__()\n",
        "        self.fc1 = nn.Linear(300*150,2)\n",
        "        self.fc2 = nn.Linear(2,2)\n",
        "        \n",
        "    def forward(self,x):\n",
        "        x = torch.sigmoid(self.fc1(x))\n",
        "        x = self.fc2(x)\n",
        "        return x # is not required you can directly use cross_entropy loss"
      ],
      "execution_count": 0,
      "outputs": []
    },
    {
      "metadata": {
        "id": "2BO4D2Mre59Y",
        "colab_type": "code",
        "colab": {}
      },
      "cell_type": "code",
      "source": [
        "class MyDataset(Dataset):\n",
        "    def __init__(self,root = './drive/My Drive/Untitled folder/signature/001',transform = None):\n",
        "        self.root = root\n",
        "        self.files = os.listdir(root)\n",
        "        self.transform = transform\n",
        "    \n",
        "    def __len__(self):\n",
        "        return len(self.files)\n",
        "    \n",
        "    def __getitem__(self,index):\n",
        "        self.file_name = self.files[index]\n",
        "        self.file_path = os.path.join(self.root,self.file_name)\n",
        "        if self.file_path[-4:] == '.mat':      # this is done just to avoid the extra .mat file present in the folder\n",
        "            temporary_image = Image.open('./drive/My Drive/Untitled folder/signature/001/c-001-01.jpg')\n",
        "            reduced_size = 300,150\n",
        "            temporary_image = temporary_image.resize(reduced_size, Image.ANTIALIAS)\n",
        "            temporary_image = self.transform(temporary_image)\n",
        "            return (temporary_image,-1)\n",
        "        self.target = 0\n",
        "        if(self.file_name[:2] == 'cf'):\n",
        "            self.target = 0\n",
        "        else:\n",
        "            self.target = 1\n",
        "        image = Image.open(self.file_path)\n",
        "        reduced_size = 300,150\n",
        "        image = image.resize(reduced_size, Image.ANTIALIAS)\n",
        "        image = self.transform(image)\n",
        "        self.target = torch.tensor(self.target)\n",
        "        return (image,self.target)\n",
        "    \n",
        "    # you could try return target -1 if its a .mat file and if target == -1 then do not consider it."
      ],
      "execution_count": 0,
      "outputs": []
    },
    {
      "metadata": {
        "id": "cxfIGs0sCklf",
        "colab_type": "code",
        "colab": {}
      },
      "cell_type": "code",
      "source": [
        "class ImageData(DataSet):\n",
        "    def __init__(self, root='train/folder_1', loader=image_load_func, transform=None):\n",
        "        self.root = root\n",
        "        self.files = os.listdir(self.root)\n",
        "        self.loader = loader\n",
        "        self.transform = transform\n",
        "    def __len__(self):\n",
        "        return len(self.files)\n",
        "    def __getitem__(self, index):\n",
        "        return self.transform(self.loader(os.path.join(self.root, self.files[index])))"
      ],
      "execution_count": 0,
      "outputs": []
    },
    {
      "metadata": {
        "id": "Hyo3rAWj0jWq",
        "colab_type": "code",
        "colab": {}
      },
      "cell_type": "code",
      "source": [
        "# folder_names = ['001','002','003','004','005','006','007','008','009','010','011','012','013','014','015','016','017','018','019','020','021','022','023','024','025','026','027','028','029','030','031','032','033','034','035','036','037','038','039','040','041','042','043','044','045','046','047','048','049','050','051','052','053','054','055','056','057','058','059','060','061','062','063','064','065','066','067','068','069','070','071','072','073','074','075','076','077','078','079','080','081','082','083','084','085','086','087','088','089','090','091','092','093','094','095','096','097','098','099','100',\n",
        "# '101','102','103','104','105','106','107','108','109','110','111','112','113','114','115','116','117','118','119','120','121','122','123','124','125','126','127','128','129','130','131','132','133','134','135','136','137','138','139','140','141','142','143','144','145','146','147','148','149','150','151','152','153','154','155','156','157','158','159','160','161','162','163','164','165','166','167','168','169','170','171','172','173','174','175','176','177','178','179','180','181','182','183','184','185','186','187','188','189','190','191','192','193','194','195','196','197','198','199','200']"
      ],
      "execution_count": 0,
      "outputs": []
    },
    {
      "metadata": {
        "id": "l3_CWWFoGdud",
        "colab_type": "code",
        "colab": {}
      },
      "cell_type": "code",
      "source": [
        "model = ff_nn()\n",
        "optimizer = optim.SGD(model.parameters(),lr = 0.1, momentum = 0.9)\n",
        "loss_function = nn.CrossEntropyLoss()"
      ],
      "execution_count": 0,
      "outputs": []
    },
    {
      "metadata": {
        "id": "HsJyCtQ-0nWP",
        "colab_type": "code",
        "colab": {}
      },
      "cell_type": "code",
      "source": [
        "epochs = 100\n",
        "fc2Wts = []\n",
        "for folder in folder_names:\n",
        "    train_dataset = MyDataset('./drive/My Drive/Untitled folder/signature/{}/'.format(folder),transforms.ToTensor())\n",
        "#     image, target = train_dataset.__getitem__(0)\n",
        "    train_loader = DataLoader(train_dataset,batch_size=1,shuffle = True,num_workers = 6)\n",
        "    \n",
        "    loss = 0\n",
        "    \n",
        "    for epoch in tqdm_notebook(range(epochs)):\n",
        "        for _,(image,label) in enumerate(train_loader):\n",
        "            image = Variable(image)\n",
        "            label = Variable(label)\n",
        "            image = image.view(-1,300*150)\n",
        "            \n",
        "            if(label == -1):\n",
        "                continue\n",
        "            \n",
        "            optimizer.zero_grad()\n",
        "            output = model(image)   # output gives the probability distribution over the variables\n",
        "            loss = loss_function(output,label)\n",
        "#             final_output = output.data.max(1)[1]\n",
        "#             correct += final_output.eq(label.data).sum()\n",
        "            loss.backward()\n",
        "            optimizer.step()\n",
        "        \n",
        "#             fc2Wts.append(list(model.fc2.parameters())[1])\n",
        "#         print(list(model.fc2.parameters())[1])\n",
        "        \n",
        "#         print('Loss = ',loss/54)\n",
        "    \n",
        "#     plt.imshow(image)\n",
        "#     plt.show()\n",
        "#     DataLoader(train_dataset,batch_size=54,shuffle = True,num_workers = 8)"
      ],
      "execution_count": 0,
      "outputs": []
    },
    {
      "metadata": {
        "id": "1cQVK2HxS1K4",
        "colab_type": "code",
        "colab": {}
      },
      "cell_type": "code",
      "source": [
        "for i in fc2Wts:\n",
        "    print(i)"
      ],
      "execution_count": 0,
      "outputs": []
    },
    {
      "metadata": {
        "id": "rtxbLxIGQ_Is",
        "colab_type": "code",
        "colab": {}
      },
      "cell_type": "code",
      "source": [
        "temp = model.fc2.parameters()\n",
        "fc2Wt = []\n",
        "for wts in temp:\n",
        "    fc2Wt.append(wts.data)"
      ],
      "execution_count": 0,
      "outputs": []
    },
    {
      "metadata": {
        "id": "NnX49JKFRTS7",
        "colab_type": "code",
        "colab": {
          "base_uri": "https://localhost:8080/",
          "height": 51
        },
        "outputId": "5ce4625c-4e28-40c0-d539-b46aa102cb07"
      },
      "cell_type": "code",
      "source": [
        "list(model.fc2.parameters())[0]"
      ],
      "execution_count": 165,
      "outputs": [
        {
          "output_type": "execute_result",
          "data": {
            "text/plain": [
              "Parameter containing:\n",
              "tensor([-0.9381,  0.8179], requires_grad=True)"
            ]
          },
          "metadata": {
            "tags": []
          },
          "execution_count": 165
        }
      ]
    },
    {
      "metadata": {
        "id": "xcaSYl6bUczd",
        "colab_type": "code",
        "colab": {
          "base_uri": "https://localhost:8080/",
          "height": 221
        },
        "outputId": "172b4f90-09f5-4156-b8b9-d3f61e499601"
      },
      "cell_type": "code",
      "source": [
        "epochs = 10\n",
        "fc2Wts = []\n",
        "for folder in folder_names:\n",
        "    train_dataset = MyDataset('./drive/My Drive/Untitled folder/signature/{}/'.format(folder),transforms.ToTensor())\n",
        "#     image, target = train_dataset.__getitem__(0)\n",
        "    train_loader = DataLoader(train_dataset,batch_size=1,shuffle = True,num_workers = 6)\n",
        "    \n",
        "    testLoss = 0.0\n",
        "    correct = 0\n",
        "    \n",
        "#     for epoch in tqdm_notebook(range(epochs)):\n",
        "    for _,(image,label) in enumerate(train_loader):\n",
        "        image = Variable(image)\n",
        "        label = Variable(label)\n",
        "        image = image.view(-1,300*150)\n",
        "\n",
        "        if(label == -1):\n",
        "            continue\n",
        "\n",
        "        predictedOutput = model(image)\n",
        "        testLoss += loss_function(predictedOutput,label)\n",
        "\n",
        "        predictedDigit = predictedOutput.data.max(1)[1]\n",
        "        correct += predictedDigit.eq(target.data).sum()\n",
        "        \n",
        "#         print('Loss = ',loss/54)\n",
        "    \n",
        "    print('correct : ', correct)\n",
        "    print('len : ', len(train_loader.dataset))\n",
        "    print('Accuracy : ',100 * correct/len(train_loader.dataset))\n",
        "#     plt.imshow(image)\n",
        "#     plt.show()\n",
        "#     DataLoader(train_dataset,batch_size=54,shuffle = True,num_workers = 8)"
      ],
      "execution_count": 183,
      "outputs": [
        {
          "output_type": "stream",
          "text": [
            "correct :  tensor(54)\n",
            "len :  55\n",
            "Accuracy :  tensor(98)\n",
            "correct :  tensor(54)\n",
            "len :  55\n",
            "Accuracy :  tensor(98)\n",
            "correct :  tensor(54)\n",
            "len :  55\n",
            "Accuracy :  tensor(98)\n",
            "correct :  tensor(54)\n",
            "len :  55\n",
            "Accuracy :  tensor(98)\n"
          ],
          "name": "stdout"
        }
      ]
    },
    {
      "metadata": {
        "id": "pLTla8TK07yM",
        "colab_type": "code",
        "colab": {}
      },
      "cell_type": "code",
      "source": [
        "\n",
        "# class ConcatDataset(torch.utils.data.Dataset):\n",
        "#     def __init__(self, *datasets):\n",
        "#         self.datasets = datasets\n",
        "\n",
        "#     def __getitem__(self, i):\n",
        "#         return tuple(d[i] for d in self.datasets)\n",
        "\n",
        "#     def __len__(self):\n",
        "#         return min(len(d) for d in self.datasets)\n",
        "\n",
        "# train_loader = torch.utils.data.DataLoader(\n",
        "#              ConcatDataset(\n",
        "#                  datasets.ImageFolder(traindir_A),\n",
        "#                  datasets.ImageFolder(traindir_B)\n",
        "#              ),\n",
        "#              batch_size=args.batch_size, shuffle=True,\n",
        "#              num_workers=args.workers, pin_memory=True)\n",
        "\n",
        "# for i, (input, target) in enumerate(train_loader):\n",
        "#     ... "
      ],
      "execution_count": 0,
      "outputs": []
    },
    {
      "metadata": {
        "id": "zOMhc3r3_a3J",
        "colab_type": "code",
        "colab": {}
      },
      "cell_type": "code",
      "source": [
        "train_dataset = MyDataset('./drive/My Drive/Untitled folder/signature/001',transforms.ToTensor())\n",
        "image, target = train_dataset.__getitem__(0)"
      ],
      "execution_count": 0,
      "outputs": []
    },
    {
      "metadata": {
        "id": "04HMuEEmMUV5",
        "colab_type": "code",
        "outputId": "f40b4b0d-ee9a-4c32-b6e5-014460a00c11",
        "colab": {
          "base_uri": "https://localhost:8080/",
          "height": 34
        }
      },
      "cell_type": "code",
      "source": [
        ""
      ],
      "execution_count": 139,
      "outputs": [
        {
          "output_type": "stream",
          "text": [
            "tensor(1)\n"
          ],
          "name": "stdout"
        }
      ]
    },
    {
      "metadata": {
        "id": "3MIN90o9_bmh",
        "colab_type": "code",
        "colab": {}
      },
      "cell_type": "code",
      "source": [
        "plt.imshow(image)\n",
        "# type(image)"
      ],
      "execution_count": 0,
      "outputs": []
    },
    {
      "metadata": {
        "id": "cKCeBbV6AGoT",
        "colab_type": "code",
        "colab": {}
      },
      "cell_type": "code",
      "source": [
        ""
      ],
      "execution_count": 0,
      "outputs": []
    }
  ]
}